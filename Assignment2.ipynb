{
 "cells": [
  {
   "cell_type": "markdown",
   "id": "570ffe00-450e-4476-94e9-34d7eded71d0",
   "metadata": {},
   "source": [
    " Q1. How do you comment code in Python? What are the different types of comments?\n",
    "ans= By using symbol ='#' we acn comment out a single line of our code\n",
    "There are some more ways to do it like by using =[\"\"\"--------\"\"\" or '''--------'''] these can be used to do a multiple line comment.\n",
    "*SHORTCUT FOR COMMENTING*-\n",
    "[ctrl+/] \n"
   ]
  },
  {
   "cell_type": "markdown",
   "id": "53449779-bd74-4818-aa2d-098a7ba50068",
   "metadata": {},
   "source": [
    "Q2. What are variables in Python? How do you declare and assign values to variables?\n",
    "variables are like container which use to store values for any data type variables allocate some memmory to our value\n",
    "variable can be declared by giving it a name and then can assign our value\n",
    "For ex= number=100 , name=\"simran\" ,percentage=99.9\n"
   ]
  },
  {
   "cell_type": "markdown",
   "id": "560a271b-7716-4405-a788-ba4f286394ae",
   "metadata": {},
   "source": [
    "Q3. How do you convert one data type to another in Python?\n",
    "ans. By using data type name in which you want to transform your data and writing the variable in brackets\n",
    "For ex=[data type name(variable name)]"
   ]
  },
  {
   "cell_type": "code",
   "execution_count": 2,
   "id": "ab49cea0-fcd5-4d52-b17a-306f5076e876",
   "metadata": {},
   "outputs": [
    {
     "data": {
      "text/plain": [
       "100"
      ]
     },
     "execution_count": 2,
     "metadata": {},
     "output_type": "execute_result"
    }
   ],
   "source": [
    "number=100.98\n",
    "number=int(number)\n",
    "number"
   ]
  },
  {
   "cell_type": "markdown",
   "id": "d5d9b279-a4ca-4cb0-89c9-07b56207b218",
   "metadata": {},
   "source": [
    "Q4. How do you write and execute a Python script from the command line?\n",
    "ans.open a command line and type the word python followed by the path to\n",
    "your script file like this: python first_script.py\n",
    "Hello World! Then you hit the ENTER button from the keyboard,"
   ]
  },
  {
   "cell_type": "code",
   "execution_count": null,
   "id": "589751bd-994f-4726-b342-a9b6124fd5bd",
   "metadata": {},
   "outputs": [],
   "source": [
    "Q5. Given a list my_list = [1, 2, 3, 4, 5], write the code to slice the list and obtain the sub-list [2, 3]."
   ]
  },
  {
   "cell_type": "code",
   "execution_count": 4,
   "id": "85e93978-a524-43db-86e2-7cba502f5d22",
   "metadata": {},
   "outputs": [
    {
     "data": {
      "text/plain": [
       "[2, 3]"
      ]
     },
     "execution_count": 4,
     "metadata": {},
     "output_type": "execute_result"
    }
   ],
   "source": [
    "my_list=[1,2,3,4,5]\n",
    "my_list[1:3]"
   ]
  },
  {
   "cell_type": "code",
   "execution_count": null,
   "id": "91dac78f-f062-49f7-8694-27e8733de16c",
   "metadata": {},
   "outputs": [],
   "source": [
    "Q6. What is a complex number in mathematics, and how is it represented in Python?\n",
    "ans. Complex no. are some imaginary no. like 5+4i.\n",
    "In python we use j to represent our complex number.\n"
   ]
  },
  {
   "cell_type": "code",
   "execution_count": 5,
   "id": "59bdbb5f-e2a6-4e4f-a0cf-f88bb359f98e",
   "metadata": {},
   "outputs": [
    {
     "data": {
      "text/plain": [
       "complex"
      ]
     },
     "execution_count": 5,
     "metadata": {},
     "output_type": "execute_result"
    }
   ],
   "source": [
    "complex_no=5+4j\n",
    "type(complex_no)"
   ]
  },
  {
   "cell_type": "markdown",
   "id": "b4663f17-df28-4873-9bc6-6bdbebe2563f",
   "metadata": {},
   "source": [
    "Q7. What is the correct way to declare a variable named age and assign the value 25 to it?"
   ]
  },
  {
   "cell_type": "code",
   "execution_count": 6,
   "id": "0d02b1d9-b6f2-4ba6-960b-99e60dfeb26d",
   "metadata": {},
   "outputs": [
    {
     "data": {
      "text/plain": [
       "25"
      ]
     },
     "execution_count": 6,
     "metadata": {},
     "output_type": "execute_result"
    }
   ],
   "source": [
    "age=25\n",
    "age"
   ]
  },
  {
   "cell_type": "markdown",
   "id": "01680832-c961-415b-9c08-154a9597d0b3",
   "metadata": {},
   "source": [
    "Q8. Declare a variable named price and assign the value 9.99 to it. What data type does this variable\n",
    "belong to?"
   ]
  },
  {
   "cell_type": "code",
   "execution_count": 7,
   "id": "1a2b9fcf-3e45-48ae-b2a0-f13f1475f1fb",
   "metadata": {},
   "outputs": [
    {
     "data": {
      "text/plain": [
       "float"
      ]
     },
     "execution_count": 7,
     "metadata": {},
     "output_type": "execute_result"
    }
   ],
   "source": [
    "price=9.99\n",
    "type(price)"
   ]
  },
  {
   "cell_type": "markdown",
   "id": "9edbe612-e4b7-417c-8431-9c6a0beaaaf5",
   "metadata": {},
   "source": [
    "Q9. Create a variable named name and assign your full name to it as a string. How would you print the\n",
    "value of this variable?"
   ]
  },
  {
   "cell_type": "code",
   "execution_count": 8,
   "id": "877bd935-2068-40ac-9c8d-69e1419f24e2",
   "metadata": {},
   "outputs": [
    {
     "data": {
      "text/plain": [
       "'Simran singh'"
      ]
     },
     "execution_count": 8,
     "metadata": {},
     "output_type": "execute_result"
    }
   ],
   "source": [
    "name=\"Simran singh\"\n",
    "name"
   ]
  },
  {
   "cell_type": "markdown",
   "id": "acd65f38-4609-4f46-b853-077ab77abe46",
   "metadata": {},
   "source": [
    "Q10. Given the string \"Hello, World!\", extract the substring \"World\"."
   ]
  },
  {
   "cell_type": "code",
   "execution_count": 13,
   "id": "ef67a0c6-6356-493e-81de-6b5709feba4a",
   "metadata": {},
   "outputs": [
    {
     "data": {
      "text/plain": [
       "'World'"
      ]
     },
     "execution_count": 13,
     "metadata": {},
     "output_type": "execute_result"
    }
   ],
   "source": [
    "string=\"Hello, World!\"\n",
    "string[7:len(string)-1]"
   ]
  },
  {
   "cell_type": "markdown",
   "id": "aaac7d64-497b-4f82-95ff-28bdc21ec6d2",
   "metadata": {},
   "source": [
    "Q11. Create a variable named \"is_student\" and assign it a boolean value indicating whether you are\n",
    "currently a student or not."
   ]
  },
  {
   "cell_type": "code",
   "execution_count": null,
   "id": "572ff430-bd93-42f2-ae22-a4f18d524e47",
   "metadata": {},
   "outputs": [],
   "source": []
  }
 ],
 "metadata": {
  "kernelspec": {
   "display_name": "Python 3 (ipykernel)",
   "language": "python",
   "name": "python3"
  },
  "language_info": {
   "codemirror_mode": {
    "name": "ipython",
    "version": 3
   },
   "file_extension": ".py",
   "mimetype": "text/x-python",
   "name": "python",
   "nbconvert_exporter": "python",
   "pygments_lexer": "ipython3",
   "version": "3.10.8"
  }
 },
 "nbformat": 4,
 "nbformat_minor": 5
}
